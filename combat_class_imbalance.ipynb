{
 "cells": [
  {
   "cell_type": "markdown",
   "metadata": {},
   "source": [
    "Combating Class Imbalance in a Clinical Dataset\n",
    "===========================================================\n",
    "Date: December 18, 2019 <br/>\n",
    "Partners: Andy Jeong\n",
    "Course: ECE414 -- Bayesian Machine Learning  <br/>\n",
    "Instructor: Professor Sam Keene  <br/>\n",
    "\n",
    "> **Dataset:** Parkinson's Disease Telemonitoring (from UCI Machine Learning Repository) <br/>\n",
    "> **Application Project:** Pick an interesting application and explore how best to apply machine learning algorithms to solve it. <br/>\n",
    "> **Goal:** data analysis, data-level and algorithm-level class imbalance handling <br/>\n",
    "\n",
    "> ** Class Imbalance Classification, which often occurs with extreme skewness across many real-world domains (along with noise) **"
   ]
  },
  {
   "cell_type": "code",
   "execution_count": 1,
   "metadata": {},
   "outputs": [],
   "source": [
    "import pandas as pd\n",
    "import numpy as np\n",
    "import math\n",
    "\n",
    "# load data\n",
    "df = pd.read_csv('../parkinsons_data/parkinsons_updrs.data', delimiter=',')"
   ]
  },
  {
   "cell_type": "code",
   "execution_count": 2,
   "metadata": {},
   "outputs": [],
   "source": [
    "# suppress warnings \n",
    "import warnings\n",
    "# warnings.filterwarnings(action='once')\n",
    "warnings.filterwarnings(action='ignore')"
   ]
  },
  {
   "cell_type": "code",
   "execution_count": 3,
   "metadata": {},
   "outputs": [],
   "source": [
    "# append the library for LIBSVM\n",
    "import sys\n",
    "sys.path.append('../libsvm/python')"
   ]
  },
  {
   "cell_type": "code",
   "execution_count": 4,
   "metadata": {},
   "outputs": [],
   "source": [
    "# define functions for thresholding, extracting features and target, standardizing and plotting for visualization\n",
    "df2 = df.copy()\n",
    "\n",
    "from sklearn import preprocessing\n",
    "from collections import Counter\n",
    "\n",
    "# threshold the specified target attribute at the input value\n",
    "def threshold(df, target_attr='total_UPDRS', value=8):\n",
    "    update = df.copy()\n",
    "    update[df[target_attr]<value] = -1 # less than threshold => negative class\n",
    "    update[df[target_attr]>=value] = 1 # greater than threshold => positive class\n",
    "    df.update(update[target_attr])\n",
    "    \n",
    "    # imbalance ratio = a proportion of samples in the number of majority class to the number of minority class\n",
    "    neg = sum(update[target_attr]==-1)\n",
    "    pos = sum(update[target_attr]==1)\n",
    "    print(y_attr,\"threshold:\",value,\":: -1's:\",neg,\"/ +1's\",pos)\n",
    "    if neg > pos:\n",
    "        print(\"imbalance ratio (maj:min):\", neg,\":\",pos, round(pos/neg*100,4),\"%\")\n",
    "    elif pos > neg:\n",
    "        print(\"imbalance ratio (maj:min):\",pos,\":\",neg,\"/\", round(neg/pos*100,4),\"%\")\n",
    "\n",
    "    return df, pos, neg\n",
    "\n",
    "# extract useful features and target attribute\n",
    "def X_Y_attr_extract(df, y_attr):  \n",
    "    # separate columns\n",
    "    ID = df.iloc[:,0]        # ignore patient ID\n",
    "    times = df.iloc[:,3]     # ignore time\n",
    "    age_sex = df.iloc[:,1:3] # discrete, categorial (per patient)\n",
    "    UPDRS = df.iloc[:,4:6]   # target attributes\n",
    "    attrs = df.iloc[:,6:]    # features\n",
    "    \n",
    "    X = pd.concat([age_sex, attrs], sort=False, axis=1)\n",
    "    Y = df[y_attr] # total UPDRS\n",
    "    \n",
    "    return X, Y\n",
    "\n",
    "# standardize the feature values by: z = (x - mean) / std\n",
    "# using standard scaler --> normalize values to range [-1, 1]\n",
    "def standardize(df):    \n",
    "    result = df.copy()\n",
    "    scaler = preprocessing.StandardScaler().fit(result) # standard scaler: [-1,1]\n",
    "    standardized = pd.DataFrame(scaler.transform(result), columns=result.columns)\n",
    "    \n",
    "    return standardized\n",
    "\n",
    "# take unique number from a list\n",
    "def unique(list1):\n",
    "    x = np.array(list1)\n",
    "    unique_list = np.unique(x)\n",
    "    return unique_list\n",
    "\n",
    "# for visualization and interpreting the prediction results\n",
    "def summary(Y_test, y_pred):\n",
    "    from sklearn.metrics import accuracy_score, balanced_accuracy_score, f1_score, roc_curve, auc\n",
    "    from imblearn.metrics import geometric_mean_score\n",
    "    import matplotlib.pyplot as plt\n",
    "    %matplotlib inline\n",
    "\n",
    "    # evaluation metrics we are interested in, for imbalanced datasets\n",
    "    acc = accuracy_score(y_pred, Y_test)\n",
    "    b_acc = balanced_accuracy_score(y_pred, Y_test)\n",
    "    f1 = f1_score(y_pred, Y_test)\n",
    "    gmean = geometric_mean_score(Y_test, y_pred)\n",
    "    \n",
    "    fpr, tpr, _ = roc_curve(Y_test, y_pred)\n",
    "    roc_auc = auc(fpr, tpr)\n",
    "    plt.figure()\n",
    "    lw = 2\n",
    "    plt.plot(fpr, tpr, color='darkorange',\n",
    "            lw=lw, label='ROC curve (area = %0.2f)' % roc_auc)\n",
    "    plt.plot([0, 1], [0, 1], color='navy', lw=lw, linestyle='--', label='reference')\n",
    "    plt.xlim([0.0, 1.0])\n",
    "    plt.ylim([0.0, 1.05])\n",
    "    plt.xlabel('False Positive Rate')\n",
    "    plt.ylabel('True Positive Rate')\n",
    "    plt.title('ROC Curve')\n",
    "    plt.legend(loc='lower right')\n",
    "    plt.show()    \n",
    "    \n",
    "    print('------summary statistics-------')\n",
    "    print(\"acc: {:.4f} / balanced acc: {:.4f}, AUC: {:.4f}, F1: {:.4f}, g-mean: {:.4f}\".format(acc,b_acc,auc(fpr, tpr),f1, gmean))"
   ]
  },
  {
   "cell_type": "code",
   "execution_count": 5,
   "metadata": {},
   "outputs": [
    {
     "name": "stdout",
     "output_type": "stream",
     "text": [
      "total_UPDRS threshold: 8 :: -1's: 144 / +1's 5731\n",
      "imbalance ratio (maj:min): 5731 : 144 / 2.5127 %\n"
     ]
    },
    {
     "data": {
      "text/html": [
       "<div>\n",
       "<style scoped>\n",
       "    .dataframe tbody tr th:only-of-type {\n",
       "        vertical-align: middle;\n",
       "    }\n",
       "\n",
       "    .dataframe tbody tr th {\n",
       "        vertical-align: top;\n",
       "    }\n",
       "\n",
       "    .dataframe thead th {\n",
       "        text-align: right;\n",
       "    }\n",
       "</style>\n",
       "<table border=\"1\" class=\"dataframe\">\n",
       "  <thead>\n",
       "    <tr style=\"text-align: right;\">\n",
       "      <th></th>\n",
       "      <th>age</th>\n",
       "      <th>sex</th>\n",
       "      <th>Jitter(%)</th>\n",
       "      <th>Jitter(Abs)</th>\n",
       "      <th>Jitter:RAP</th>\n",
       "      <th>Jitter:PPQ5</th>\n",
       "      <th>Jitter:DDP</th>\n",
       "      <th>Shimmer</th>\n",
       "      <th>Shimmer(dB)</th>\n",
       "      <th>Shimmer:APQ3</th>\n",
       "      <th>Shimmer:APQ5</th>\n",
       "      <th>Shimmer:APQ11</th>\n",
       "      <th>Shimmer:DDA</th>\n",
       "      <th>NHR</th>\n",
       "      <th>HNR</th>\n",
       "      <th>RPDE</th>\n",
       "      <th>DFA</th>\n",
       "      <th>PPE</th>\n",
       "      <th>total_UPDRS</th>\n",
       "    </tr>\n",
       "  </thead>\n",
       "  <tbody>\n",
       "    <tr>\n",
       "      <th>0</th>\n",
       "      <td>0.815695</td>\n",
       "      <td>-0.682509</td>\n",
       "      <td>0.082905</td>\n",
       "      <td>-0.284242</td>\n",
       "      <td>0.327453</td>\n",
       "      <td>-0.028637</td>\n",
       "      <td>0.328505</td>\n",
       "      <td>-0.324594</td>\n",
       "      <td>-0.351642</td>\n",
       "      <td>-0.209709</td>\n",
       "      <td>-0.423356</td>\n",
       "      <td>-0.543466</td>\n",
       "      <td>-0.209704</td>\n",
       "      <td>-0.298721</td>\n",
       "      <td>-0.009205</td>\n",
       "      <td>-1.214066</td>\n",
       "      <td>-1.478500</td>\n",
       "      <td>-0.650658</td>\n",
       "      <td>1.0</td>\n",
       "    </tr>\n",
       "    <tr>\n",
       "      <th>1</th>\n",
       "      <td>0.815695</td>\n",
       "      <td>-0.682509</td>\n",
       "      <td>-0.560793</td>\n",
       "      <td>-0.756723</td>\n",
       "      <td>-0.533746</td>\n",
       "      <td>-0.476212</td>\n",
       "      <td>-0.534825</td>\n",
       "      <td>-0.534016</td>\n",
       "      <td>-0.573156</td>\n",
       "      <td>-0.545158</td>\n",
       "      <td>-0.565592</td>\n",
       "      <td>-0.529955</td>\n",
       "      <td>-0.545153</td>\n",
       "      <td>-0.351965</td>\n",
       "      <td>1.282650</td>\n",
       "      <td>-1.055119</td>\n",
       "      <td>-1.247880</td>\n",
       "      <td>-1.218585</td>\n",
       "      <td>1.0</td>\n",
       "    </tr>\n",
       "    <tr>\n",
       "      <th>2</th>\n",
       "      <td>0.815695</td>\n",
       "      <td>-0.682509</td>\n",
       "      <td>-0.238944</td>\n",
       "      <td>-0.539382</td>\n",
       "      <td>-0.300038</td>\n",
       "      <td>-0.320767</td>\n",
       "      <td>-0.298983</td>\n",
       "      <td>-0.669115</td>\n",
       "      <td>-0.564469</td>\n",
       "      <td>-0.741592</td>\n",
       "      <td>-0.702426</td>\n",
       "      <td>-0.645545</td>\n",
       "      <td>-0.741587</td>\n",
       "      <td>-0.199370</td>\n",
       "      <td>0.318711</td>\n",
       "      <td>-0.784860</td>\n",
       "      <td>-1.540139</td>\n",
       "      <td>-0.103280</td>\n",
       "      <td>1.0</td>\n",
       "    </tr>\n",
       "    <tr>\n",
       "      <th>3</th>\n",
       "      <td>0.815695</td>\n",
       "      <td>-0.682509</td>\n",
       "      <td>-0.155370</td>\n",
       "      <td>-0.485186</td>\n",
       "      <td>-0.344859</td>\n",
       "      <td>-0.170682</td>\n",
       "      <td>-0.344871</td>\n",
       "      <td>-0.423692</td>\n",
       "      <td>0.069668</td>\n",
       "      <td>-0.460540</td>\n",
       "      <td>-0.449763</td>\n",
       "      <td>-0.392849</td>\n",
       "      <td>-0.460787</td>\n",
       "      <td>-0.071754</td>\n",
       "      <td>0.644530</td>\n",
       "      <td>-0.536487</td>\n",
       "      <td>-1.062115</td>\n",
       "      <td>1.237075</td>\n",
       "      <td>1.0</td>\n",
       "    </tr>\n",
       "    <tr>\n",
       "      <th>4</th>\n",
       "      <td>0.815695</td>\n",
       "      <td>-0.682509</td>\n",
       "      <td>-0.498557</td>\n",
       "      <td>-0.663894</td>\n",
       "      <td>-0.658604</td>\n",
       "      <td>-0.529814</td>\n",
       "      <td>-0.659682</td>\n",
       "      <td>-0.658276</td>\n",
       "      <td>-0.586186</td>\n",
       "      <td>-0.783145</td>\n",
       "      <td>-0.651413</td>\n",
       "      <td>-0.464905</td>\n",
       "      <td>-0.783392</td>\n",
       "      <td>-0.343370</td>\n",
       "      <td>1.036305</td>\n",
       "      <td>-0.689195</td>\n",
       "      <td>-1.297953</td>\n",
       "      <td>-0.283954</td>\n",
       "      <td>1.0</td>\n",
       "    </tr>\n",
       "  </tbody>\n",
       "</table>\n",
       "</div>"
      ],
      "text/plain": [
       "        age       sex  Jitter(%)  Jitter(Abs)  Jitter:RAP  Jitter:PPQ5  \\\n",
       "0  0.815695 -0.682509   0.082905    -0.284242    0.327453    -0.028637   \n",
       "1  0.815695 -0.682509  -0.560793    -0.756723   -0.533746    -0.476212   \n",
       "2  0.815695 -0.682509  -0.238944    -0.539382   -0.300038    -0.320767   \n",
       "3  0.815695 -0.682509  -0.155370    -0.485186   -0.344859    -0.170682   \n",
       "4  0.815695 -0.682509  -0.498557    -0.663894   -0.658604    -0.529814   \n",
       "\n",
       "   Jitter:DDP   Shimmer  Shimmer(dB)  Shimmer:APQ3  Shimmer:APQ5  \\\n",
       "0    0.328505 -0.324594    -0.351642     -0.209709     -0.423356   \n",
       "1   -0.534825 -0.534016    -0.573156     -0.545158     -0.565592   \n",
       "2   -0.298983 -0.669115    -0.564469     -0.741592     -0.702426   \n",
       "3   -0.344871 -0.423692     0.069668     -0.460540     -0.449763   \n",
       "4   -0.659682 -0.658276    -0.586186     -0.783145     -0.651413   \n",
       "\n",
       "   Shimmer:APQ11  Shimmer:DDA       NHR       HNR      RPDE       DFA  \\\n",
       "0      -0.543466    -0.209704 -0.298721 -0.009205 -1.214066 -1.478500   \n",
       "1      -0.529955    -0.545153 -0.351965  1.282650 -1.055119 -1.247880   \n",
       "2      -0.645545    -0.741587 -0.199370  0.318711 -0.784860 -1.540139   \n",
       "3      -0.392849    -0.460787 -0.071754  0.644530 -0.536487 -1.062115   \n",
       "4      -0.464905    -0.783392 -0.343370  1.036305 -0.689195 -1.297953   \n",
       "\n",
       "        PPE  total_UPDRS  \n",
       "0 -0.650658          1.0  \n",
       "1 -1.218585          1.0  \n",
       "2 -0.103280          1.0  \n",
       "3  1.237075          1.0  \n",
       "4 -0.283954          1.0  "
      ]
     },
     "execution_count": 5,
     "metadata": {},
     "output_type": "execute_result"
    }
   ],
   "source": [
    "# apply thresholding and standarization to the data\n",
    "\n",
    "# y_attr = 'motor_UPDRS'\n",
    "y_attr = 'total_UPDRS'\n",
    "thresh = 8\n",
    "# threshold value ranges\n",
    "# 7 to 54 for total_UPDRS\n",
    "# 5 to 39 for motor_UPDRS\n",
    "list_thresh = np.unique(unique(list(df[y_attr])).astype(np.int)) \n",
    "\n",
    "# threshold, extract attributes and labels, standardize to values between [-1, 1]\n",
    "df2, npos, nneg = threshold(df2, target_attr=y_attr, value=thresh)\n",
    "X, Y = X_Y_attr_extract(df2, y_attr)\n",
    "X = standardize(X)\n",
    "\n",
    "# print result in a table\n",
    "result = pd.concat([X,Y], axis=1)\n",
    "result.head()"
   ]
  },
  {
   "cell_type": "markdown",
   "metadata": {},
   "source": [
    "> Over-sampling"
   ]
  },
  {
   "cell_type": "code",
   "execution_count": null,
   "metadata": {},
   "outputs": [],
   "source": [
    "# over-sampilng - random\n",
    "from imblearn.over_sampling import RandomOverSampler\n",
    "ros = RandomOverSampler(random_state=42)\n",
    "X, Y = ros.fit_resample(X, Y)\n",
    "\n",
    "# check resampled results\n",
    "print(sorted(Counter(Y).items()))"
   ]
  },
  {
   "cell_type": "code",
   "execution_count": null,
   "metadata": {},
   "outputs": [],
   "source": [
    "# over-sampling - SMOTE\n",
    "from imblearn.over_sampling import SMOTE\n",
    "\n",
    "X, Y = SMOTE(random_state=42).fit_resample(X, Y)\n",
    "print(sorted(Counter(Y).items()))"
   ]
  },
  {
   "cell_type": "code",
   "execution_count": null,
   "metadata": {},
   "outputs": [],
   "source": [
    "# over-sampling - ADASYN\n",
    "from imblearn.over_sampling import ADASYN\n",
    "X, Y = ADASYN(random_state=42).fit_resample(X, Y)\n",
    "print(sorted(Counter(Y).items()))"
   ]
  },
  {
   "cell_type": "code",
   "execution_count": null,
   "metadata": {},
   "outputs": [],
   "source": [
    "# over-sampling - BorderlineSMOTE\n",
    "from imblearn.over_sampling import BorderlineSMOTE\n",
    "X, Y = BorderlineSMOTE(random_state=42).fit_resample(X, Y)\n",
    "print(sorted(Counter(Y).items()))"
   ]
  },
  {
   "cell_type": "code",
   "execution_count": null,
   "metadata": {},
   "outputs": [],
   "source": [
    "# over-sampling - SVMSMOTE\n",
    "from imblearn.over_sampling import SVMSMOTE\n",
    "X, Y = SVMSMOTE(random_state=42).fit_resample(X, Y)\n",
    "print(sorted(Counter(Y).items()))"
   ]
  },
  {
   "cell_type": "code",
   "execution_count": null,
   "metadata": {},
   "outputs": [],
   "source": [
    "# over-sampling - KMeansSMOTE\n",
    "from imblearn.over_sampling import KMeansSMOTE\n",
    "X, Y = KMeansSMOTE(random_state=42, cluster_balance_threshold=0.05).fit_resample(X, Y)\n",
    "print(sorted(Counter(Y).items()))"
   ]
  },
  {
   "cell_type": "code",
   "execution_count": null,
   "metadata": {},
   "outputs": [],
   "source": [
    "# over-sampling - SMOTENC\n",
    "from imblearn.over_sampling import SMOTENC\n",
    "\n",
    "def standardize(df):    \n",
    "    result = df.copy()\n",
    "    scaler = preprocessing.StandardScaler().fit(result.iloc[:,2:]) # standard scaler: [-1,1]\n",
    "    standardized = pd.DataFrame(scaler.transform(result.iloc[:,2:]), columns=result.iloc[:,2:].columns)\n",
    "    return standardized\n",
    "\n",
    "# since SMOTENC takes nominal and continuous data as input, need to treat 'age' and 'sex' as categorial\n",
    "y_attr = 'total_UPDRS'\n",
    "thresh = 8\n",
    "df2, npos, nneg = threshold(df.copy(), target_attr=y_attr, value=thresh)\n",
    "X, Y = X_Y_attr_extract(df2, y_attr)\n",
    "X = pd.concat([X.iloc[:,:2], standardize(X)], axis=1)\n",
    "result = pd.concat([X,Y], axis=1)\n",
    "result.head()\n",
    "\n",
    "X, Y = SMOTENC(random_state=42, categorical_features=[0,1]).fit_resample(X, Y)\n",
    "print(sorted(Counter(Y).items()))"
   ]
  },
  {
   "cell_type": "markdown",
   "metadata": {},
   "source": [
    "> Under-sampling "
   ]
  },
  {
   "cell_type": "code",
   "execution_count": null,
   "metadata": {},
   "outputs": [],
   "source": [
    "# under-sampling - RandomUnderSampler\n",
    "from imblearn.under_sampling import RandomUnderSampler\n",
    "X, Y = RandomUnderSampler(random_state=42, replacement=True).fit_resample(X, Y) # replacement=True: bootstrapping data\n",
    "print(sorted(Counter(Y).items()))"
   ]
  },
  {
   "cell_type": "code",
   "execution_count": null,
   "metadata": {},
   "outputs": [],
   "source": [
    "# under-sampling - ClusterCentroids\n",
    "from imblearn.under_sampling import ClusterCentroids\n",
    "X, Y = ClusterCentroids(random_state=42).fit_resample(X, Y)\n",
    "print(sorted(Counter(Y).items()))"
   ]
  },
  {
   "cell_type": "code",
   "execution_count": null,
   "metadata": {},
   "outputs": [],
   "source": [
    "# under-sampling - NearMiss\n",
    "from imblearn.under_sampling import NearMiss\n",
    "nm1 = NearMiss(version=1)\n",
    "X, Y = nm1.fit_resample(X, Y) # selects the (+) samples for which the average distance to the N 'closest' samples of the (-) class is the smallest\n",
    "print(sorted(Counter(Y).items()))"
   ]
  },
  {
   "cell_type": "code",
   "execution_count": null,
   "metadata": {},
   "outputs": [],
   "source": [
    "# under-sampling - NearMiss\n",
    "from imblearn.under_sampling import NearMiss\n",
    "X, Y = NearMiss(version=2).fit_resample(X, Y) # selects the (+) samples for which the average distance to the N 'farthest' samples of the (-) class is the smallest\n",
    "print(sorted(Counter(Y).items()))"
   ]
  },
  {
   "cell_type": "code",
   "execution_count": null,
   "metadata": {},
   "outputs": [],
   "source": [
    "# under-sampling - NearMiss\n",
    "from imblearn.under_sampling import NearMiss\n",
    "# 2-step: \n",
    "# (1) for each (-) sample, their M nearest neighbors will be kept (2) selects the (+) samples for which the average distance to the N nearest neighbors is the largest\n",
    "X, Y = NearMiss(version=3).fit_resample(X, Y)  \n",
    "print(sorted(Counter(Y).items()))"
   ]
  },
  {
   "cell_type": "code",
   "execution_count": null,
   "metadata": {},
   "outputs": [],
   "source": [
    "# under-sampling - TomekLinks\n",
    "from imblearn.under_sampling import TomekLinks\n",
    "X, Y = TomekLinks().fit_resample(X, Y)\n",
    "print(sorted(Counter(Y).items()))"
   ]
  },
  {
   "cell_type": "code",
   "execution_count": null,
   "metadata": {},
   "outputs": [],
   "source": [
    "# under-sampling - EditedNearestNeighbours\n",
    "from imblearn.under_sampling import EditedNearestNeighbours\n",
    "X, Y = EditedNearestNeighbours().fit_resample(X, Y)\n",
    "print(sorted(Counter(Y).items()))"
   ]
  },
  {
   "cell_type": "code",
   "execution_count": null,
   "metadata": {},
   "outputs": [],
   "source": [
    "# under-sampling - RepeatedEditedNearestNeighbours\n",
    "from imblearn.under_sampling import RepeatedEditedNearestNeighbours\n",
    "X, Y = RepeatedEditedNearestNeighbours().fit_resample(X, Y)\n",
    "print(sorted(Counter(Y).items()))"
   ]
  },
  {
   "cell_type": "code",
   "execution_count": null,
   "metadata": {},
   "outputs": [],
   "source": [
    "# under-sampling - AllKNN\n",
    "from imblearn.under_sampling import AllKNN\n",
    "X, Y = AllKNN().fit_resample(X, Y)\n",
    "print(sorted(Counter(Y).items()))"
   ]
  },
  {
   "cell_type": "code",
   "execution_count": null,
   "metadata": {},
   "outputs": [],
   "source": [
    "# under-sampling - CondensedNearestNeighbour\n",
    "from imblearn.under_sampling import CondensedNearestNeighbour\n",
    "X, Y = CondensedNearestNeighbour(random_state=42).fit_resample(X, Y)\n",
    "print(sorted(Counter(Y).items()))"
   ]
  },
  {
   "cell_type": "code",
   "execution_count": null,
   "metadata": {},
   "outputs": [],
   "source": [
    "# under-sampling - OneSidedSelection\n",
    "from imblearn.under_sampling import OneSidedSelection\n",
    "X, Y = OneSidedSelection(random_state=42).fit_resample(X, Y)\n",
    "print(sorted(Counter(Y).items()))"
   ]
  },
  {
   "cell_type": "markdown",
   "metadata": {},
   "source": [
    "> Combined resampling"
   ]
  },
  {
   "cell_type": "code",
   "execution_count": 10,
   "metadata": {},
   "outputs": [
    {
     "name": "stdout",
     "output_type": "stream",
     "text": [
      "[(-1.0, 5727), (1.0, 5335)]\n"
     ]
    }
   ],
   "source": [
    "# combination of over- and under-sampling - SMOTEENN\n",
    "from imblearn.combine import SMOTEENN\n",
    "X, Y = SMOTEENN(random_state=42).fit_resample(X, Y)\n",
    "print(sorted(Counter(Y).items()))"
   ]
  },
  {
   "cell_type": "code",
   "execution_count": null,
   "metadata": {},
   "outputs": [],
   "source": [
    "# combination of over- and under-sampling - SMOTETomek\n",
    "from imblearn.combine import SMOTETomek\n",
    "X, Y = SMOTETomek(random_state=42).fit_resample(X, Y)\n",
    "print(sorted(Counter(Y).items()))"
   ]
  },
  {
   "cell_type": "code",
   "execution_count": 11,
   "metadata": {},
   "outputs": [
    {
     "data": {
      "image/png": "[encoded data removed]",
      "text/plain": [
       "<Figure size 360x360 with 1 Axes>"
      ]
     },
     "metadata": {
      "needs_background": "light"
     },
     "output_type": "display_data"
    }
   ],
   "source": [
    "# PCA visualization (2 components)\n",
    "import matplotlib.pyplot as plt\n",
    "%matplotlib inline\n",
    "\n",
    "from sklearn.decomposition import PCA\n",
    "\n",
    "pca = PCA(n_components=2)\n",
    "pca_components = pca.fit_transform(X)\n",
    "pca_df = pd.DataFrame(data=pca_components, columns=['pca1','pca2'])\n",
    "\n",
    "fig = plt.figure(figsize=(5,5))\n",
    "ax = fig.add_subplot(1,1,1)\n",
    "ax.set_xlabel('pca - 1', fontsize=15)\n",
    "ax.set_ylabel('pca - 2', fontsize=15)\n",
    "ax.set_title('2-component PCA, total UPDRS thresholded at {}'.format(thresh), fontsize=12)\n",
    "\n",
    "targets = [-1, 1]\n",
    "colors = ['r', 'g']\n",
    "for target, color in zip(targets, colors):\n",
    "    indices_keep = Y == target\n",
    "    ax.scatter(pca_df.loc[indices_keep, 'pca1'],\n",
    "              pca_df.loc[indices_keep, 'pca2'],\n",
    "              c=color,\n",
    "              s=50)\n",
    "ax.legend(targets)\n",
    "ax.grid()\n",
    "fig.savefig('')\n",
    "fig.savefig('log_reg_total_thresh_{}.png'.format(thresh))"
   ]
  },
  {
   "cell_type": "markdown",
   "metadata": {},
   "source": [
    "> Convert to DataFrame before running through a classifier"
   ]
  },
  {
   "cell_type": "code",
   "execution_count": 5,
   "metadata": {},
   "outputs": [],
   "source": [
    "# convert ndarray to dataframes before running through classifiers\n",
    "X = pd.DataFrame(X)\n",
    "Y = pd.DataFrame(Y)"
   ]
  },
  {
   "cell_type": "markdown",
   "metadata": {},
   "source": [
    "> Classifiers"
   ]
  },
  {
   "cell_type": "code",
   "execution_count": null,
   "metadata": {},
   "outputs": [],
   "source": [
    "# 1. (Gaussian) Naive Bayes Classifier\n",
    "\n",
    "from sklearn.model_selection import StratifiedKFold\n",
    "from sklearn.naive_bayes import GaussianNB\n",
    "from sklearn.metrics import plot_confusion_matrix\n",
    "import matplotlib.pyplot as plt\n",
    "%matplotlib inline\n",
    "\n",
    "k_fold = StratifiedKFold(n_splits=10, shuffle=True, random_state=42)\n",
    "for train_index, test_index in k_fold.split(X,Y):\n",
    "    X_train, X_test = X.iloc[train_index], X.iloc[test_index]\n",
    "    Y_train, Y_test = Y.iloc[train_index], Y.iloc[test_index]\n",
    "    \n",
    "    gnb = GaussianNB()\n",
    "    y_pred = gnb.fit(X_train, Y_train).predict(X_test)\n",
    "    print(\"Mislabeled %d points out of a total of %d points\" % ((Y_test.values != y_pred).sum(), X_test.shape[0]))\n",
    "    \n",
    "    summary(Y_test, y_pred)\n",
    "    disp = plot_confusion_matrix(gnb, X_test, Y_test, \n",
    "                                display_labels=np.unique(Y.values),\n",
    "                                cmap=plt.cm.Blues,\n",
    "                                normalize='true')\n",
    "    disp.ax_.set_title('Confusion matrix')\n",
    "    print(\"confusion matrix: \\n\",disp.confusion_matrix)\n",
    "    plt.show()"
   ]
  },
  {
   "cell_type": "code",
   "execution_count": null,
   "metadata": {},
   "outputs": [],
   "source": [
    "# 2. (Stratified 10-folded) SVM\n",
    "from sklearn.model_selection import StratifiedKFold\n",
    "from sklearn.metrics import confusion_matrix\n",
    "from svmutil import *\n",
    "\n",
    "k_fold = StratifiedKFold(n_splits=10, shuffle=True, random_state=42)\n",
    "for train_index, test_index in k_fold.split(X,Y):\n",
    "    X_train, X_test = X.iloc[train_index], X.iloc[test_index]\n",
    "    Y_train, Y_test = Y.iloc[train_index], Y.iloc[test_index]\n",
    "    \n",
    "    # define the svm problem\n",
    "    prob = svm_problem(list(Y_train.values), list(X_train.values))\n",
    "    \n",
    "    param = svm_parameter(\"-q\")\n",
    "    param.svm_type = 0 # C-SVC\n",
    "#     param.kernel_type = 0 # 0: Linear\n",
    "    param.kernel_type = 2 #/ 2: RBF\n",
    "    param.probability = 0 # disable probabiilty estimation, by default\n",
    "    \n",
    "    # apply grid search\n",
    "    results = []\n",
    "    for c in range(-5, 6):\n",
    "        for g in range(-5, 6):\n",
    "            param.C = 2**c\n",
    "            param.gamma = 2**g\n",
    "            m = svm_train(prob, param)\n",
    "            p_label, p_acc, p_val = svm_predict(list(Y_test.values), list(X_test.values), m)\n",
    "            results.append([2**c, 2**g, p_acc[0]])\n",
    "    bestIdx = np.argmax(np.array(results)[:,2])\n",
    "    best_c, best_g, _ = results[bestIdx]\n",
    "    print(\"Best C: {}, Best Gamma: {}\".format(best_c, best_g))\n",
    "    \n",
    "    # use best hyperparmaters to train\n",
    "    param.C = best_c\n",
    "    param.gamma = best_g\n",
    "    \n",
    "    m = svm_train(prob, param)\n",
    "    y_pred, p_acc, p_val = svm_predict(list(Y_test.values), list(X_test.values), m)\n",
    "        \n",
    "    y_pred = pd.Series(y_pred)\n",
    "    summary(Y_test, y_pred)\n",
    "    cm = confusion_matrix(Y_test, y_pred, labels=np.unique(Y.values),normalize='true')\n",
    "    print(\"confusion matrix: \\n\",cm)"
   ]
  },
  {
   "cell_type": "code",
   "execution_count": null,
   "metadata": {},
   "outputs": [],
   "source": [
    "# (Stratified 10-folded) SVM (Different Error Cost (DEC))\n",
    "from sklearn.model_selection import StratifiedKFold\n",
    "from sklearn.metrics import confusion_matrix\n",
    "from svmutil import *\n",
    "from sklearn.utils.class_weight import compute_class_weight\n",
    "\n",
    "k_fold = StratifiedKFold(n_splits=10, shuffle=True, random_state=42)\n",
    "for train_index, test_index in k_fold.split(X,Y):\n",
    "    X_train, X_test = X.iloc[train_index], X.iloc[test_index]\n",
    "    Y_train, Y_test = Y.iloc[train_index], Y.iloc[test_index]\n",
    "    \n",
    "    # define the svm problem\n",
    "    prob = svm_problem(list(Y_train.values), list(X_train.values))\n",
    "    \n",
    "    # apply grid search\n",
    "    results = []\n",
    "    for c in range(-5, 6):\n",
    "        for g in range(-5, 6):\n",
    "            # adjust class weights by the ratio\n",
    "            weights = compute_class_weight('balanced', classes=sorted(np.unique(Y_train)), y=Y_train.iloc[:,0])\n",
    "            w_pos1, w_neg1 = weights\n",
    "            # -s: svm_type (0 == C-SVC)\n",
    "            # -b: probability estimate (0 == disabled)\n",
    "            # -t: type of svm (0 == Linear, 2 == RBF)\n",
    "            # -c: cost\n",
    "            # -g: gamma\n",
    "            # -w0, -w1: weights\n",
    "            param = svm_parameter('-q -s 0 -b 0 -t 0 -c '+str(2**c)+' -g '+str(2**g)+' -w0 '+str(w_pos1)+' -w1 '+str(w_neg1))\n",
    "            m = svm_train(prob, param)\n",
    "            p_label, p_acc, p_val = svm_predict(list(Y_test.values), list(X_test.values), m)\n",
    "            results.append([2**c, 2**g, p_acc[0]])\n",
    "    bestIdx = np.argmax(np.array(results)[:,2])\n",
    "    best_c, best_g, _ = results[bestIdx]\n",
    "    print(\"Best C: {}, Best Gamma: {}\".format(best_c, best_g))\n",
    "\n",
    "    # test\n",
    "    weights = compute_class_weight('balanced', classes=sorted(np.unique(Y_train)), y=Y_train.iloc[:,0])\n",
    "    w_pos1, w_neg1 = weights\n",
    "    print(sum(Y_train.values==1), sum(Y_train.values==-1)) # weights are in [1, -1] order            \n",
    "    print(\"Class weights:\",weights)\n",
    "    param = svm_parameter('-q -s 0 -t 0 -c '+str(best_c)+' -g '+str(best_g)+' -w0 '+str(w_pos1)+' -w1 '+str(w_neg1))\n",
    "    \n",
    "    m = svm_train(prob, param)\n",
    "    y_pred, p_acc, p_val = svm_predict(list(Y_test.values), list(X_test.values), m)\n",
    "    \n",
    "    y_pred = pd.Series(y_pred)\n",
    "    summary(Y_test, y_pred)\n",
    "    cm = confusion_matrix(Y_test, y_pred, labels=np.unique(Y.values),normalize='true')\n",
    "    print(\"confusion matrix: \\n\",cm)"
   ]
  },
  {
   "cell_type": "code",
   "execution_count": null,
   "metadata": {},
   "outputs": [],
   "source": [
    "# (Stratified 10-folded) SVM (DEC -- one-class learning)\n",
    "from sklearn.model_selection import StratifiedKFold\n",
    "from sklearn.metrics import confusion_matrix\n",
    "from svmutil import *\n",
    "from sklearn.utils.class_weight import compute_class_weight\n",
    "\n",
    "k_fold = StratifiedKFold(n_splits=10, shuffle=True, random_state=42)\n",
    "for train_index, test_index in k_fold.split(X,Y):\n",
    "    X_train, X_test = X.iloc[train_index], X.iloc[test_index]\n",
    "    Y_train, Y_test = Y.iloc[train_index], Y.iloc[test_index]\n",
    "    \n",
    "    # define the svm problem\n",
    "    prob = svm_problem(list(Y_train.values), list(X_train.values))\n",
    "    \n",
    "    # apply grid search\n",
    "    results = []\n",
    "    for c in range(-5, 6):\n",
    "        for g in range(-5, 6):\n",
    "            # adjust class weights by the ratio\n",
    "            weights = compute_class_weight('balanced', classes=sorted(np.unique(Y_train)), y=Y_train.iloc[:,0])\n",
    "            w_pos1, w_neg1 = weights\n",
    "            param = svm_parameter('-q -s 2 -b 0 -t 2 -c '+str(2**c)+' -g '+str(2**g)+' -w0 '+str(0)+' -w1 '+str(w_neg1))\n",
    "            m = svm_train(prob, param)\n",
    "            p_label, p_acc, p_val = svm_predict(list(Y_test.values), list(X_test.values), m)\n",
    "            results.append([2**c, 2**g, p_acc[0]])\n",
    "    bestIdx = np.argmax(np.array(results)[:,2])\n",
    "    best_c, best_g, _ = results[bestIdx]\n",
    "    print(\"Best C: {}, Best Gamma: {}\".format(best_c, best_g))\n",
    "    \n",
    "\n",
    "    # test\n",
    "    weights = compute_class_weight('balanced', classes=sorted(np.unique(Y_train)), y=Y_train.iloc[:,0])\n",
    "    w_pos1, w_neg1 = weights\n",
    "    print(sum(Y_train.values==1), sum(Y_train.values==-1)) # weights are in [1, -1] order            \n",
    "    print(\"Class weights:\",weights)\n",
    "    param = svm_parameter('-q -s 2 -t 2 -c '+str(best_c)+' -g '+str(best_g)+' -w0 '+str(0)+' -w1 '+str(w_neg1))\n",
    "    \n",
    "    m = svm_train(prob, param)\n",
    "    y_pred, p_acc, p_val = svm_predict(list(Y_test.values), list(X_test.values), m)\n",
    "        \n",
    "    y_pred = pd.Series(y_pred)\n",
    "    summary(Y_test, -1*y_pred)\n",
    "    cm = confusion_matrix(Y_test, y_pred, labels=np.unique(Y.values),normalize='true')\n",
    "    print(\"confusion matrix: \\n\",cm)\n"
   ]
  },
  {
   "cell_type": "code",
   "execution_count": null,
   "metadata": {},
   "outputs": [],
   "source": [
    "# 3. Logistic Regression\n",
    "from sklearn.model_selection import cross_val_score, cross_val_predict, train_test_split\n",
    "from sklearn.linear_model import LogisticRegressionCV\n",
    "from sklearn.metrics import plot_confusion_matrix\n",
    "import matplotlib.pyplot as plt\n",
    "%matplotlib inline\n",
    "\n",
    "X_train, X_test, Y_train, Y_test = train_test_split(X, Y, test_size=0.2, random_state=42)\n",
    "\n",
    "# initialize model\n",
    "logreg = LogisticRegressionCV(cv=10, solver='lbfgs',random_state=42)\n",
    "\n",
    "# cross validated prediction\n",
    "y_pred = logreg.fit(X_train, Y_train).predict(X_test)\n",
    "summary(Y_test, y_pred)\n",
    "\n",
    "disp = plot_confusion_matrix(logreg, X_test, Y_test, \n",
    "                            display_labels=np.unique(Y.values),\n",
    "                            cmap=plt.cm.Blues,\n",
    "                            normalize='true')\n",
    "disp.ax_.set_title('Confusion matrix')\n",
    "print(\"confusion matrix: \\n\",disp.confusion_matrix)\n",
    "plt.show()\n",
    "\n",
    "# plot logistic regression results with PCA\n",
    "from sklearn.decomposition import PCA\n",
    "\n",
    "pca = PCA(n_components=2)\n",
    "pca_components = pca.fit_transform(X)\n",
    "x_min, x_max = pca_components[:,0].min() - 0.5, pca_components[:,0].max() + 0.5\n",
    "y_min, y_max = pca_components[:,1].min() - 0.5, pca_components[:,1].max() + 0.5\n",
    "h = 0.02 # mesh step size\n",
    "xx, yy = np.meshgrid(np.arange(x_min, x_max, h), np.arange(y_min, y_max, h))\n",
    "\n",
    "logreg.fit(pca_components, Y)\n",
    "Z = logreg.predict(np.c_[xx.ravel(), yy.ravel()])\n",
    "\n",
    "# put the result into a color plot\n",
    "Z = Z.reshape(xx.shape)\n",
    "fig = plt.figure(1, figsize=(8,6))\n",
    "ax = fig.add_subplot(1,1,1)\n",
    "ax.pcolormesh(xx, yy, Z, cmap='binary_r') #plt.cm.Paired)\n",
    "\n",
    "# plot also the training points\n",
    "ax.scatter(pca_components[:,0], pca_components[:,1], c=Y.iloc[:,0]+1, edgecolors='r', cmap='binary_r') #plt.cm.Paired)\n",
    "ax.set_xlabel('pca-1')\n",
    "ax.set_ylabel('pca-2')\n",
    "ax.set_title('Logistic Regression - total UPDRS thresholded at {}'.format(thresh))\n",
    "ax.set_xlim(xx.min(), xx.max())\n",
    "ax.set_ylim(yy.min(), yy.max())\n",
    "ax.set_xticks(())\n",
    "ax.set_yticks(())\n",
    "plt.show()\n",
    "fig.savefig('log_reg_total_thresh_{}.png'.format(thresh))"
   ]
  },
  {
   "cell_type": "code",
   "execution_count": 9,
   "metadata": {},
   "outputs": [
    {
     "data": {
      "image/png": "[encoded data removed]",
      "text/plain": [
       "<Figure size 432x288 with 1 Axes>"
      ]
     },
     "metadata": {
      "needs_background": "light"
     },
     "output_type": "display_data"
    },
    {
     "name": "stdout",
     "output_type": "stream",
     "text": [
      "------summary statistics-------\n",
      "acc: 0.9503 / balanced acc: 0.6386, AUC: 0.9747, F1: 0.9740, g-mean: 0.9743\n",
      "confusion matrix: \n",
      " [[1.         0.        ]\n",
      " [0.05065926 0.94934074]]\n"
     ]
    },
    {
     "data": {
      "image/png": "[encoded data removed]",
      "text/plain": [
       "<Figure size 432x288 with 2 Axes>"
      ]
     },
     "metadata": {
      "needs_background": "light"
     },
     "output_type": "display_data"
    }
   ],
   "source": [
    "# 4. Ensemble classifier\n",
    "# -- balanced bagging classifier (EasyEnsemble + BaggingClassifier)\n",
    "from imblearn.ensemble import BalancedBaggingClassifier\n",
    "from sklearn.model_selection import train_test_split\n",
    "from sklearn.metrics import plot_confusion_matrix\n",
    "\n",
    "X_train, X_test, Y_train, Y_test = train_test_split(X, Y, random_state=42)\n",
    "bbc = BalancedBaggingClassifier(random_state=42)\n",
    "y_pred = bbc.fit(X_train, Y_train).predict(X_test)\n",
    "\n",
    "summary(Y_test, y_pred)\n",
    "\n",
    "disp = plot_confusion_matrix(bbc, X_test, Y_test, \n",
    "                            display_labels=np.unique(Y.values),\n",
    "                            cmap=plt.cm.Blues,\n",
    "                            normalize='true')\n",
    "disp.ax_.set_title('Confusion matrix')\n",
    "print(\"confusion matrix: \\n\",disp.confusion_matrix)\n",
    "plt.show()"
   ]
  },
  {
   "cell_type": "markdown",
   "metadata": {},
   "source": [
    "> Ensemble Learning"
   ]
  },
  {
   "cell_type": "code",
   "execution_count": null,
   "metadata": {},
   "outputs": [],
   "source": [
    "# 4. Ensemble classifier\n",
    "# -- Boosting - RUSBoostClassifier\n",
    "from imblearn.ensemble import RUSBoostClassifier\n",
    "from sklearn.model_selection import train_test_split\n",
    "from sklearn.metrics import plot_confusion_matrix\n",
    "\n",
    "print(X.shape, Y.shape)\n",
    "X_train, X_test, Y_train, Y_test = train_test_split(X, Y, random_state=42)\n",
    "    \n",
    "rusboost = RUSBoostClassifier(random_state=42)\n",
    "rusboost.fit(X_train, Y_train)\n",
    "y_pred = rusboost.predict(X_test)\n",
    "\n",
    "summary(Y_test, y_pred)\n",
    "\n",
    "disp = plot_confusion_matrix(rusboost, X_test, Y_test, \n",
    "                            display_labels=np.unique(Y.values),\n",
    "                            cmap=plt.cm.Blues,\n",
    "                            normalize='true')\n",
    "disp.ax_.set_title('Confusion matrix')\n",
    "print(\"confusion matrix: \\n\",disp.confusion_matrix)\n",
    "plt.show()"
   ]
  },
  {
   "cell_type": "code",
   "execution_count": null,
   "metadata": {},
   "outputs": [],
   "source": [
    "# 4. Ensemble classifier\n",
    "# -- Boosting - EasyEnsemblerClassifier (AdaBoost)\n",
    "from imblearn.ensemble import EasyEnsembleClassifier\n",
    "from sklearn.model_selection import train_test_split\n",
    "from sklearn.metrics import plot_confusion_matrix\n",
    "\n",
    "print(X.shape, Y.shape)\n",
    "X_train, X_test, Y_train, Y_test = train_test_split(X, Y, random_state=42)\n",
    "    \n",
    "eec = EasyEnsembleClassifier(random_state=42)\n",
    "eec.fit(X_train, Y_train)\n",
    "y_pred = eec.predict(X_test)\n",
    "\n",
    "summary(Y_test, y_pred)\n",
    "\n",
    "disp = plot_confusion_matrix(eec, X_test, Y_test, \n",
    "                            display_labels=np.unique(Y.values),\n",
    "                            cmap=plt.cm.Blues,\n",
    "                            normalize='true')\n",
    "disp.ax_.set_title('Confusion matrix')\n",
    "print(\"confusion matrix: \\n\",disp.confusion_matrix)\n",
    "plt.show()"
   ]
  }
 ],
 "metadata": {
  "file_extension": ".py",
  "kernelspec": {
   "display_name": "Python 3",
   "language": "python",
   "name": "python3"
  },
  "language_info": {
   "codemirror_mode": {
    "name": "ipython",
    "version": 3
   },
   "file_extension": ".py",
   "mimetype": "text/x-python",
   "name": "python",
   "nbconvert_exporter": "python",
   "pygments_lexer": "ipython3",
   "version": "3.6.7"
  },
  "mimetype": "text/x-python",
  "name": "python",
  "npconvert_exporter": "python",
  "pygments_lexer": "ipython3",
  "version": 3
 },
 "nbformat": 4,
 "nbformat_minor": 4
}
